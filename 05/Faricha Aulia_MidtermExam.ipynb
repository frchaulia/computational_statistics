{
  "cells": [
    {
      "cell_type": "markdown",
      "metadata": {
        "id": "nq4XaWM13FTT"
      },
      "source": [
        "# **Faricha Aulia** ✨"
      ]
    },
    {
      "cell_type": "markdown",
      "metadata": {
        "id": "qaetMc004bpN"
      },
      "source": [
        "### Number 1\n",
        "\n",
        "> Complete your Pokemon data! Non-complete data of your Pokemon may affect to your score (50% point discount).\n",
        "\n",
        "> Answer : I have complete pokemon data (Group D)\n",
        "\n",
        "\n",
        "\n"
      ]
    },
    {
      "cell_type": "code",
      "execution_count": 2,
      "metadata": {
        "id": "3MfGXaICHo2h"
      },
      "outputs": [],
      "source": [
        "import pandas as pd"
      ]
    },
    {
      "cell_type": "code",
      "execution_count": 4,
      "metadata": {
        "colab": {
          "base_uri": "https://localhost:8080/",
          "height": 423
        },
        "id": "XtkIqhQMHuK-",
        "outputId": "52659902-ddc3-41c6-dcad-0f01e62c3a8c"
      },
      "outputs": [
        {
          "data": {
            "text/html": [
              "\n",
              "  <div id=\"df-b37e177e-bbf7-4f61-bb47-5a3356b995de\">\n",
              "    <div class=\"colab-df-container\">\n",
              "      <div>\n",
              "<style scoped>\n",
              "    .dataframe tbody tr th:only-of-type {\n",
              "        vertical-align: middle;\n",
              "    }\n",
              "\n",
              "    .dataframe tbody tr th {\n",
              "        vertical-align: top;\n",
              "    }\n",
              "\n",
              "    .dataframe thead th {\n",
              "        text-align: right;\n",
              "    }\n",
              "</style>\n",
              "<table border=\"1\" class=\"dataframe\">\n",
              "  <thead>\n",
              "    <tr style=\"text-align: right;\">\n",
              "      <th></th>\n",
              "      <th>Class</th>\n",
              "      <th>Group</th>\n",
              "      <th>Pokemon</th>\n",
              "      <th>date_caught</th>\n",
              "      <th>Location</th>\n",
              "      <th>Type</th>\n",
              "      <th>Status</th>\n",
              "      <th>Attack</th>\n",
              "      <th>HP</th>\n",
              "      <th>DEF</th>\n",
              "      <th>CP</th>\n",
              "    </tr>\n",
              "  </thead>\n",
              "  <tbody>\n",
              "    <tr>\n",
              "      <th>0</th>\n",
              "      <td>TI 2I</td>\n",
              "      <td>A</td>\n",
              "      <td>Flaeron</td>\n",
              "      <td>15/03/2023</td>\n",
              "      <td>Univ Brawijaya</td>\n",
              "      <td>Fire</td>\n",
              "      <td>Caught</td>\n",
              "      <td>246</td>\n",
              "      <td>103</td>\n",
              "      <td>179</td>\n",
              "      <td>1648</td>\n",
              "    </tr>\n",
              "    <tr>\n",
              "      <th>1</th>\n",
              "      <td>TI 2I</td>\n",
              "      <td>A</td>\n",
              "      <td>Ninetales</td>\n",
              "      <td>15/03/2023</td>\n",
              "      <td>Univ Brawijaya</td>\n",
              "      <td>Fire</td>\n",
              "      <td>Caught</td>\n",
              "      <td>169</td>\n",
              "      <td>121</td>\n",
              "      <td>190</td>\n",
              "      <td>1461</td>\n",
              "    </tr>\n",
              "    <tr>\n",
              "      <th>2</th>\n",
              "      <td>TI 2I</td>\n",
              "      <td>A</td>\n",
              "      <td>Furfrou</td>\n",
              "      <td>15/03/2023</td>\n",
              "      <td>Univ Brawijaya</td>\n",
              "      <td>Normal</td>\n",
              "      <td>Caught</td>\n",
              "      <td>164</td>\n",
              "      <td>128</td>\n",
              "      <td>167</td>\n",
              "      <td>1403</td>\n",
              "    </tr>\n",
              "    <tr>\n",
              "      <th>3</th>\n",
              "      <td>TI 2I</td>\n",
              "      <td>A</td>\n",
              "      <td>Throh</td>\n",
              "      <td>15/03/2023</td>\n",
              "      <td>Univ Brawijaya</td>\n",
              "      <td>Fighting</td>\n",
              "      <td>Caught</td>\n",
              "      <td>172</td>\n",
              "      <td>157</td>\n",
              "      <td>160</td>\n",
              "      <td>1288</td>\n",
              "    </tr>\n",
              "    <tr>\n",
              "      <th>4</th>\n",
              "      <td>TI 2I</td>\n",
              "      <td>A</td>\n",
              "      <td>Heracross</td>\n",
              "      <td>15/03/2023</td>\n",
              "      <td>Univ Brawijaya</td>\n",
              "      <td>Bug/Fighting</td>\n",
              "      <td>Caught</td>\n",
              "      <td>234</td>\n",
              "      <td>105</td>\n",
              "      <td>179</td>\n",
              "      <td>1243</td>\n",
              "    </tr>\n",
              "    <tr>\n",
              "      <th>...</th>\n",
              "      <td>...</td>\n",
              "      <td>...</td>\n",
              "      <td>...</td>\n",
              "      <td>...</td>\n",
              "      <td>...</td>\n",
              "      <td>...</td>\n",
              "      <td>...</td>\n",
              "      <td>...</td>\n",
              "      <td>...</td>\n",
              "      <td>...</td>\n",
              "      <td>...</td>\n",
              "    </tr>\n",
              "    <tr>\n",
              "      <th>280</th>\n",
              "      <td>TI 2I</td>\n",
              "      <td>F</td>\n",
              "      <td>Ekans</td>\n",
              "      <td>15/03/2023</td>\n",
              "      <td>Batu</td>\n",
              "      <td>Poison</td>\n",
              "      <td>Caught</td>\n",
              "      <td>110</td>\n",
              "      <td>10</td>\n",
              "      <td>90</td>\n",
              "      <td>11</td>\n",
              "    </tr>\n",
              "    <tr>\n",
              "      <th>281</th>\n",
              "      <td>TI 2I</td>\n",
              "      <td>F</td>\n",
              "      <td>Squirtle</td>\n",
              "      <td>15/03/2023</td>\n",
              "      <td>Batu</td>\n",
              "      <td>Water</td>\n",
              "      <td>Caught</td>\n",
              "      <td>94</td>\n",
              "      <td>12</td>\n",
              "      <td>121</td>\n",
              "      <td>12</td>\n",
              "    </tr>\n",
              "    <tr>\n",
              "      <th>282</th>\n",
              "      <td>TI 2I</td>\n",
              "      <td>F</td>\n",
              "      <td>Arbok</td>\n",
              "      <td>15/03/2023</td>\n",
              "      <td>Araya</td>\n",
              "      <td>Poison</td>\n",
              "      <td>Flee</td>\n",
              "      <td>205</td>\n",
              "      <td>65</td>\n",
              "      <td>23</td>\n",
              "      <td>43</td>\n",
              "    </tr>\n",
              "    <tr>\n",
              "      <th>283</th>\n",
              "      <td>TI 2I</td>\n",
              "      <td>F</td>\n",
              "      <td>Ekans</td>\n",
              "      <td>15/03/2023</td>\n",
              "      <td>Araya</td>\n",
              "      <td>Poison</td>\n",
              "      <td>Flee</td>\n",
              "      <td>158</td>\n",
              "      <td>35</td>\n",
              "      <td>87</td>\n",
              "      <td>56</td>\n",
              "    </tr>\n",
              "    <tr>\n",
              "      <th>284</th>\n",
              "      <td>TI 2I</td>\n",
              "      <td>F</td>\n",
              "      <td>Arbok</td>\n",
              "      <td>15/03/2023</td>\n",
              "      <td>Sawojajar</td>\n",
              "      <td>Poison</td>\n",
              "      <td>Flee</td>\n",
              "      <td>106</td>\n",
              "      <td>87</td>\n",
              "      <td>43</td>\n",
              "      <td>23</td>\n",
              "    </tr>\n",
              "  </tbody>\n",
              "</table>\n",
              "<p>285 rows × 11 columns</p>\n",
              "</div>\n",
              "      <button class=\"colab-df-convert\" onclick=\"convertToInteractive('df-b37e177e-bbf7-4f61-bb47-5a3356b995de')\"\n",
              "              title=\"Convert this dataframe to an interactive table.\"\n",
              "              style=\"display:none;\">\n",
              "        \n",
              "  <svg xmlns=\"http://www.w3.org/2000/svg\" height=\"24px\"viewBox=\"0 0 24 24\"\n",
              "       width=\"24px\">\n",
              "    <path d=\"M0 0h24v24H0V0z\" fill=\"none\"/>\n",
              "    <path d=\"M18.56 5.44l.94 2.06.94-2.06 2.06-.94-2.06-.94-.94-2.06-.94 2.06-2.06.94zm-11 1L8.5 8.5l.94-2.06 2.06-.94-2.06-.94L8.5 2.5l-.94 2.06-2.06.94zm10 10l.94 2.06.94-2.06 2.06-.94-2.06-.94-.94-2.06-.94 2.06-2.06.94z\"/><path d=\"M17.41 7.96l-1.37-1.37c-.4-.4-.92-.59-1.43-.59-.52 0-1.04.2-1.43.59L10.3 9.45l-7.72 7.72c-.78.78-.78 2.05 0 2.83L4 21.41c.39.39.9.59 1.41.59.51 0 1.02-.2 1.41-.59l7.78-7.78 2.81-2.81c.8-.78.8-2.07 0-2.86zM5.41 20L4 18.59l7.72-7.72 1.47 1.35L5.41 20z\"/>\n",
              "  </svg>\n",
              "      </button>\n",
              "      \n",
              "  <style>\n",
              "    .colab-df-container {\n",
              "      display:flex;\n",
              "      flex-wrap:wrap;\n",
              "      gap: 12px;\n",
              "    }\n",
              "\n",
              "    .colab-df-convert {\n",
              "      background-color: #E8F0FE;\n",
              "      border: none;\n",
              "      border-radius: 50%;\n",
              "      cursor: pointer;\n",
              "      display: none;\n",
              "      fill: #1967D2;\n",
              "      height: 32px;\n",
              "      padding: 0 0 0 0;\n",
              "      width: 32px;\n",
              "    }\n",
              "\n",
              "    .colab-df-convert:hover {\n",
              "      background-color: #E2EBFA;\n",
              "      box-shadow: 0px 1px 2px rgba(60, 64, 67, 0.3), 0px 1px 3px 1px rgba(60, 64, 67, 0.15);\n",
              "      fill: #174EA6;\n",
              "    }\n",
              "\n",
              "    [theme=dark] .colab-df-convert {\n",
              "      background-color: #3B4455;\n",
              "      fill: #D2E3FC;\n",
              "    }\n",
              "\n",
              "    [theme=dark] .colab-df-convert:hover {\n",
              "      background-color: #434B5C;\n",
              "      box-shadow: 0px 1px 3px 1px rgba(0, 0, 0, 0.15);\n",
              "      filter: drop-shadow(0px 1px 2px rgba(0, 0, 0, 0.3));\n",
              "      fill: #FFFFFF;\n",
              "    }\n",
              "  </style>\n",
              "\n",
              "      <script>\n",
              "        const buttonEl =\n",
              "          document.querySelector('#df-b37e177e-bbf7-4f61-bb47-5a3356b995de button.colab-df-convert');\n",
              "        buttonEl.style.display =\n",
              "          google.colab.kernel.accessAllowed ? 'block' : 'none';\n",
              "\n",
              "        async function convertToInteractive(key) {\n",
              "          const element = document.querySelector('#df-b37e177e-bbf7-4f61-bb47-5a3356b995de');\n",
              "          const dataTable =\n",
              "            await google.colab.kernel.invokeFunction('convertToInteractive',\n",
              "                                                     [key], {});\n",
              "          if (!dataTable) return;\n",
              "\n",
              "          const docLinkHtml = 'Like what you see? Visit the ' +\n",
              "            '<a target=\"_blank\" href=https://colab.research.google.com/notebooks/data_table.ipynb>data table notebook</a>'\n",
              "            + ' to learn more about interactive tables.';\n",
              "          element.innerHTML = '';\n",
              "          dataTable['output_type'] = 'display_data';\n",
              "          await google.colab.output.renderOutput(dataTable, element);\n",
              "          const docLink = document.createElement('div');\n",
              "          docLink.innerHTML = docLinkHtml;\n",
              "          element.appendChild(docLink);\n",
              "        }\n",
              "      </script>\n",
              "    </div>\n",
              "  </div>\n",
              "  "
            ],
            "text/plain": [
              "     Class Group    Pokemon date_caught        Location          Type  Status  \\\n",
              "0    TI 2I     A    Flaeron  15/03/2023  Univ Brawijaya          Fire  Caught   \n",
              "1    TI 2I     A  Ninetales  15/03/2023  Univ Brawijaya          Fire  Caught   \n",
              "2    TI 2I     A    Furfrou  15/03/2023  Univ Brawijaya        Normal  Caught   \n",
              "3    TI 2I     A      Throh  15/03/2023  Univ Brawijaya      Fighting  Caught   \n",
              "4    TI 2I     A  Heracross  15/03/2023  Univ Brawijaya  Bug/Fighting  Caught   \n",
              "..     ...   ...        ...         ...             ...           ...     ...   \n",
              "280  TI 2I     F      Ekans  15/03/2023            Batu        Poison  Caught   \n",
              "281  TI 2I     F   Squirtle  15/03/2023            Batu         Water  Caught   \n",
              "282  TI 2I     F      Arbok  15/03/2023           Araya        Poison    Flee   \n",
              "283  TI 2I     F      Ekans  15/03/2023           Araya        Poison    Flee   \n",
              "284  TI 2I     F      Arbok  15/03/2023       Sawojajar        Poison    Flee   \n",
              "\n",
              "     Attack   HP  DEF    CP  \n",
              "0       246  103  179  1648  \n",
              "1       169  121  190  1461  \n",
              "2       164  128  167  1403  \n",
              "3       172  157  160  1288  \n",
              "4       234  105  179  1243  \n",
              "..      ...  ...  ...   ...  \n",
              "280     110   10   90    11  \n",
              "281      94   12  121    12  \n",
              "282     205   65   23    43  \n",
              "283     158   35   87    56  \n",
              "284     106   87   43    23  \n",
              "\n",
              "[285 rows x 11 columns]"
            ]
          },
          "execution_count": 4,
          "metadata": {},
          "output_type": "execute_result"
        }
      ],
      "source": [
        "lia = pd.read_csv('PokemonFarichaAulia.csv')\n",
        "lia"
      ]
    },
    {
      "cell_type": "markdown",
      "metadata": {
        "id": "yPthCIZHDo4G"
      },
      "source": [
        "### Number 2\n",
        "\n",
        "\n",
        "> Calculate on “HP”. <ol type = \"A\">\n",
        "  <li>Determine the mean, variance, and its standard deviation. (5 pts)</li>\n",
        "  <li>Determine the Q1, Q2, and Q3. (5 pts) </li>\n",
        "  <li>Is there any outliers? Mention if any! (5 pts)</li>\n",
        "</ol>\n",
        "\n"
      ]
    },
    {
      "cell_type": "code",
      "execution_count": 20,
      "metadata": {
        "colab": {
          "base_uri": "https://localhost:8080/"
        },
        "id": "TrV3wzAWHxGE",
        "outputId": "fca9d8c8-2bec-4866-85c4-5cb01e343e96"
      },
      "outputs": [
        {
          "name": "stdout",
          "output_type": "stream",
          "text": [
            "Number 2.A\n",
            "- Mean =  49.814\n",
            "- Variance =  739.222\n",
            "- Standard Deviation =  27.189\n",
            " \n",
            "Number 2.B\n",
            "- Q1 =  29.0\n",
            "- Q3 =  45.0\n",
            "- Q3 =  65.0\n",
            " \n",
            "Number 2.C\n",
            "- Number of outliers = 7\n",
            "- Max outlier value = 157\n",
            "- Min outlier value = 120\n",
            "This is the list of outliers : \n",
            "1      121\n",
            "2      128\n",
            "3      157\n",
            "12     121\n",
            "13     120\n",
            "105    120\n",
            "137    138\n",
            "Name: HP, dtype: int64\n"
          ]
        }
      ],
      "source": [
        "print(\"Number 2.A\")\n",
        "\n",
        "#Determine the mean => .mean()\n",
        "meano = lia['HP'].mean()\n",
        "meano_round = round(meano,3) \n",
        "print(\"- Mean = \", meano_round)\n",
        "\n",
        "#Detemine the variance => .var()\n",
        "varo = lia['HP'].var()\n",
        "varo_round = round(varo,3)  \n",
        "print(\"- Variance = \", varo_round)\n",
        "\n",
        "#Determine standart deviation => .std()\n",
        "sdevo = lia['HP'].std()\n",
        "sdevo_round = round(sdevo,3)\n",
        "print(\"- Standard Deviation = \", sdevo_round)\n",
        "\n",
        "\n",
        "print(\" \")\n",
        "print(\"Number 2.B\")\n",
        "\n",
        "#Determine the Q1\n",
        "q1 = lia['HP'].quantile(0.25)\n",
        "print(\"- Q1 = \", q1)\n",
        "\n",
        "#Determine the Q2\n",
        "q2 = lia['HP'].quantile(0.50)\n",
        "print(\"- Q3 = \", q2)\n",
        "\n",
        "#Determine the Q3\n",
        "q3 = lia['HP'].quantile(0.75)\n",
        "print(\"- Q3 = \", q3)\n",
        "\n",
        "print(\" \")\n",
        "print(\"Number 2.C\")\n",
        "\n",
        "def find_outliers_IQR(lia):\n",
        "   q1=lia.quantile(0.25)\n",
        "   q3=lia.quantile(0.75)\n",
        "   IQR=q3-q1\n",
        "   outliers = lia[((lia<(q1-1.5*IQR)) | (lia>(q3+1.5*IQR)))]\n",
        "   return outliers\n",
        "outliers = find_outliers_IQR(lia['HP'])\n",
        "print(\"- Number of outliers = \" + str(len(outliers)))\n",
        "print(\"- Max outlier value = \" + str(outliers.max()))\n",
        "print(\"- Min outlier value = \" + str(outliers.min()))\n",
        "print(\"This is the list of outliers : \")\n",
        "print(outliers)"
      ]
    },
    {
      "cell_type": "markdown",
      "metadata": {
        "id": "DxfEux6nWF3x"
      },
      "source": [
        "###Number 3\n",
        "\n",
        "> Based on your calculation at No. 2, make these several things: <ol type = \"A\">\n",
        "  <li>Boxplot of “HP” (10 pts)</li>\n",
        "  <li>Histogram of “HP” with the bins is 100. (10 pts) </li>\n",
        "</ol> \n",
        "\n"
      ]
    },
    {
      "cell_type": "code",
      "execution_count": 8,
      "metadata": {
        "colab": {
          "base_uri": "https://localhost:8080/",
          "height": 489
        },
        "id": "bu3-jydGWJA1",
        "outputId": "07d8f88f-1e12-40e0-9a5b-c3589659e878"
      },
      "outputs": [
        {
          "name": "stdout",
          "output_type": "stream",
          "text": [
            "Number 3.A\n"
          ]
        },
        {
          "data": {
            "text/plain": [
              "<function matplotlib.pyplot.show(close=None, block=None)>"
            ]
          },
          "execution_count": 8,
          "metadata": {},
          "output_type": "execute_result"
        },
        {
          "data": {
            "image/png": "[encoded data removed]",
            "text/plain": [
              "<Figure size 640x480 with 1 Axes>"
            ]
          },
          "metadata": {},
          "output_type": "display_data"
        }
      ],
      "source": [
        "print(\"Number 3.A\")\n",
        "\n",
        "import matplotlib.pyplot as plt\n",
        "\n",
        "lia['HP'].plot(kind='box', title='HP Pokemon')\n",
        "plt.show"
      ]
    },
    {
      "cell_type": "code",
      "execution_count": null,
      "metadata": {
        "colab": {
          "base_uri": "https://localhost:8080/",
          "height": 467
        },
        "id": "3SHEa_albl04",
        "outputId": "775cd07a-92ac-46e9-d7cb-62a494e63c1f"
      },
      "outputs": [
        {
          "name": "stdout",
          "output_type": "stream",
          "text": [
            "Number 3.B\n"
          ]
        },
        {
          "data": {
            "text/plain": [
              "<function matplotlib.pyplot.show(close=None, block=None)>"
            ]
          },
          "execution_count": 58,
          "metadata": {},
          "output_type": "execute_result"
        },
        {
          "data": {
            "image/png": "[encoded data removed]",
            "text/plain": [
              "<Figure size 640x480 with 1 Axes>"
            ]
          },
          "metadata": {},
          "output_type": "display_data"
        }
      ],
      "source": [
        "print(\"Number 3.B\")\n",
        "lia['HP'].hist(bins=100)\n",
        "plt.show"
      ]
    },
    {
      "cell_type": "markdown",
      "metadata": {
        "id": "se0H2NC2dKeS"
      },
      "source": [
        "###Number 4 \n",
        "> Based on mean and standard deviation from No. 2, determine <ol type = \"A\">\n",
        "  <li>The z-score to Pokemon which has CP value up to 400 (10 pts) </li>\n",
        "  <li>Probability of Pokemon which has DEF more than 60 (10 pts) </li>\n",
        "</ol>\n",
        "\n",
        "> Notes:\n",
        "*   Use 3 decimal rounded for mean and standard deviation  \n",
        "*   Use 2 decimal no-rounded for z-score.\n",
        "*   Use all decimal no-rounded for probability score \n",
        "\n",
        "\n",
        "\n",
        "\n",
        "\n",
        "\n"
      ]
    },
    {
      "cell_type": "code",
      "execution_count": 9,
      "metadata": {
        "colab": {
          "base_uri": "https://localhost:8080/"
        },
        "id": "eM64j2VCd0DM",
        "outputId": "74f18aa6-a080-4ef9-b9d9-de7b66adfa43"
      },
      "outputs": [
        {
          "name": "stdout",
          "output_type": "stream",
          "text": [
            "Number 4.A\n",
            "5     -1.222092\n",
            "7      1.456569\n",
            "8     -0.574504\n",
            "10     0.338007\n",
            "11     1.103339\n",
            "         ...   \n",
            "280   -1.251528\n",
            "281   -1.241716\n",
            "282   -0.937546\n",
            "283   -0.809990\n",
            "284   -1.133785\n",
            "Name: CP, Length: 243, dtype: float64\n",
            " \n",
            "Number 4.B\n",
            "Probability =  200 / 285\n"
          ]
        }
      ],
      "source": [
        "import scipy.stats as stats\n",
        "\n",
        "print(\"Number 4.A\")\n",
        "\n",
        "content = lia['CP'][lia['CP']<=400]\n",
        "zscores = stats.zscore(content)\n",
        "print(zscores)\n",
        "\n",
        "print(\" \")\n",
        "print(\"Number 4.B\")\n",
        "\n",
        "defpo = lia['DEF'][lia['DEF']>60]\n",
        "defpo_data = len(defpo)\n",
        "overall_data = len(lia['DEF'])\n",
        "print(\"Probability = \" , defpo_data, \"/\" , overall_data)"
      ]
    },
    {
      "cell_type": "markdown",
      "metadata": {
        "id": "m2AbmxW3fFbT"
      },
      "source": [
        "###Number 5 \n",
        "\n",
        "> Determine : <ol type = \"A\">\n",
        "  <li>Probability of “CAUGHT” and “FLEE”. (5 pts) </li>\n",
        "  <li>By choosing caught Pokemon 10 times randomly, what is the probability of 3 electric Pokemons?  </li>\n",
        "  <li>Use bar chart to represent the distribution of any Pokemons which are caught at Polinema using 10 point as interval. (20 poin) </li>\n",
        "</ol>"
      ]
    },
    {
      "cell_type": "code",
      "execution_count": 29,
      "metadata": {
        "colab": {
          "base_uri": "https://localhost:8080/",
          "height": 1000
        },
        "id": "DzWZb0tnfb-F",
        "outputId": "f471668b-c490-4815-c728-5ea4ad3ab9f7"
      },
      "outputs": [
        {
          "name": "stdout",
          "output_type": "stream",
          "text": [
            "Number 5.A\n",
            "- Total Caught Pokemon =  274\n",
            "- Total Pokemon =  285\n",
            "So, Probability of Caught Pokemon =  274 / 285\n",
            "- Total Flee Pokemon =  11\n",
            "- Total Pokemon =  285\n",
            "So, Probability of Flee Pokemon =  11 / 285\n",
            " \n",
            "Number 5.B\n",
            "Total Electric Pokemon =  19     Electric\n",
            "38     Electric\n",
            "108    Electric\n",
            "111    Electric\n",
            "116    Electric\n",
            "142    Electric\n",
            "145    Electric\n",
            "204    Electric\n",
            "246    Electric\n",
            "257    Electric\n",
            "269    Electric\n",
            "276    Electric\n",
            "Name: Type, dtype: object\n",
            " \n",
            "Number 5.C\n",
            "Total in polinema =  111\n",
            "Total in univ brawijaya=  73\n",
            "Total in Saxophone =  8\n",
            "Total in Dau =  13\n",
            "Total in Suhat =  24\n",
            "Total in Barawijaya=  5\n",
            "Total in Sulfat =  12\n",
            "Total in Rampal =  4\n",
            "Total in Araya =  8\n",
            "Total in Sawojajar =  7\n",
            "Total in Klojen =  4\n",
            "Total in Pakis =  6\n",
            "Total in Batu =  7\n",
            "Total in Sudimoro =  1\n"
          ]
        },
        {
          "data": {
            "text/plain": [
              "<Axes: >"
            ]
          },
          "execution_count": 29,
          "metadata": {},
          "output_type": "execute_result"
        },
        {
          "data": {
            "image/png": "[encoded data removed]",
            "text/plain": [
              "<Figure size 640x480 with 1 Axes>"
            ]
          },
          "metadata": {},
          "output_type": "display_data"
        }
      ],
      "source": [
        "from numpy import poly\n",
        "print(\"Number 5.A\")\n",
        "caupo = lia['Status'][lia['Status']=='Caught']\n",
        "caupo_data = len(caupo)\n",
        "fleepo = lia['Status'][lia['Status']=='Flee']\n",
        "fleepo_data = len(fleepo)\n",
        "statpo = len(lia['Status'])\n",
        "print(\"- Total Caught Pokemon = \", caupo_data)\n",
        "print(\"- Total Pokemon = \", statpo)\n",
        "print(\"So, Probability of Caught Pokemon = \" , caupo_data, \"/\" , statpo)\n",
        "print(\"- Total Flee Pokemon = \", fleepo_data)\n",
        "print(\"- Total Pokemon = \", statpo)\n",
        "print(\"So, Probability of Flee Pokemon = \" , fleepo_data, \"/\" , statpo)\n",
        "\n",
        "print(\" \")\n",
        "print(\"Number 5.B\")\n",
        "elpo = lia['Type'][lia['Type']=='Electric']\n",
        "elpo_data = len(elpo)\n",
        "print(\"Total Electric Pokemon = \", elpo)\n",
        "\n",
        "print(\" \")\n",
        "print(\"Number 5.C\")\n",
        "poly = len(lia['Location'][lia['Location']=='Polinema'])\n",
        "print(\"Total in polinema = \", poly)\n",
        "ub = len(lia['Location'][lia['Location']=='Univ Brawijaya'])\n",
        "print(\"Total in univ brawijaya= \", ub)\n",
        "sax = len(lia['Location'][lia['Location']=='Saxophone'])\n",
        "print(\"Total in Saxophone = \", sax)\n",
        "dau = len(lia['Location'][lia['Location']=='Dau'])\n",
        "print(\"Total in Dau = \", dau)\n",
        "sht = len(lia['Location'][lia['Location']=='Suhat'])\n",
        "print(\"Total in Suhat = \", sht)\n",
        "bara = len(lia['Location'][lia['Location']=='Barawijaya'])\n",
        "print(\"Total in Barawijaya= \", bara)\n",
        "sul = len(lia['Location'][lia['Location']=='Sulfat'])\n",
        "print(\"Total in Sulfat = \", sul)\n",
        "ram = len(lia['Location'][lia['Location']=='Rampal'])\n",
        "print(\"Total in Rampal = \", ram)\n",
        "ara = len(lia['Location'][lia['Location']=='Araya'])\n",
        "print(\"Total in Araya = \", ara)\n",
        "saw = len(lia['Location'][lia['Location']=='Sawojajar'])\n",
        "print(\"Total in Sawojajar = \", saw)\n",
        "klo = len(lia['Location'][lia['Location']=='Klojen'])\n",
        "print(\"Total in Klojen = \", klo)\n",
        "pak = len(lia['Location'][lia['Location']=='Pakis'])\n",
        "print(\"Total in Pakis = \", pak)\n",
        "bat = len(lia['Location'][lia['Location']=='Batu'])\n",
        "print(\"Total in Batu = \", bat)\n",
        "sm = len(lia['Location'][lia['Location']=='Sudimoro'])\n",
        "print(\"Total in Sudimoro = \", sm)\n",
        "\n",
        "plotdata = pd.DataFrame(\n",
        "    {\"pies\": [11, 7.3, 0.8, 1.3, 2.4, 0.5, 1.2, 0.4, 0.8, 0.7, 0.4, 0.6, 0.7, 0.1]}, \n",
        "    index=[\"Polinema\", \"Univ Brawijaya\", \"Saxophone\", \"Dau \", \"Suhat\", \"Barawijaya\", \"Sulfat\", \"Rampal\", \"Araya\", \"Sawojajar\", \"Klojen\", \"Pakis\", \"Batu\", \"Sudimoro\"])\n",
        "# Plot a bar chart\n",
        "plotdata.plot(kind=\"bar\")"
      ]
    }
  ],
  "metadata": {
    "colab": {
      "provenance": []
    },
    "kernelspec": {
      "display_name": "Python 3",
      "name": "python3"
    },
    "language_info": {
      "name": "python"
    }
  },
  "nbformat": 4,
  "nbformat_minor": 0
}
